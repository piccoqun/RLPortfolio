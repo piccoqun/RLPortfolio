{
  "nbformat": 4,
  "nbformat_minor": 0,
  "metadata": {
    "colab": {
      "name": "xgboost_prediction.ipynb",
      "version": "0.3.2",
      "provenance": [],
      "include_colab_link": true
    },
    "kernelspec": {
      "name": "python3",
      "display_name": "Python 3"
    },
    "accelerator": "GPU"
  },
  "cells": [
    {
      "cell_type": "markdown",
      "metadata": {
        "id": "view-in-github",
        "colab_type": "text"
      },
      "source": [
        "<a href=\"https://colab.research.google.com/github/piccoqun/RLPortfolio/blob/master/xgboost_prediction.ipynb\" target=\"_parent\"><img src=\"https://colab.research.google.com/assets/colab-badge.svg\" alt=\"Open In Colab\"/></a>"
      ]
    },
    {
      "metadata": {
        "id": "CU5O6v91i4Mw",
        "colab_type": "text"
      },
      "cell_type": "markdown",
      "source": [
        "# 1 授权"
      ]
    },
    {
      "metadata": {
        "id": "HoEX7hRMrjBK",
        "colab_type": "code",
        "colab": {}
      },
      "cell_type": "code",
      "source": [
        "!kill -9 -1"
      ],
      "execution_count": 0,
      "outputs": []
    },
    {
      "metadata": {
        "id": "bGLoi3Pch1Yh",
        "colab_type": "code",
        "outputId": "0a21d47a-e546-4099-d715-b23021905709",
        "colab": {
          "base_uri": "https://localhost:8080/",
          "height": 379
        }
      },
      "cell_type": "code",
      "source": [
        "#授权绑定Google Drive,需要两次授权填写verification code成功\n",
        "!apt-get install -y -qq software-properties-common python-software-properties module-init-tools\n",
        "!add-apt-repository -y ppa:alessandro-strada/ppa 2>&1 > /dev/null\n",
        "!apt-get update -qq 2>&1 > /dev/null\n",
        "!apt-get -y install -qq google-drive-ocamlfuse fuse\n",
        "from google.colab import auth\n",
        "auth.authenticate_user()\n",
        "from oauth2client.client import GoogleCredentials\n",
        "creds = GoogleCredentials.get_application_default()\n",
        "import getpass\n",
        "!google-drive-ocamlfuse -headless -id={creds.client_id} -secret={creds.client_secret} < /dev/null 2>&1 | grep URL\n",
        "vcode = getpass.getpass()\n",
        "!echo {vcode} | google-drive-ocamlfuse -headless -id={creds.client_id} -secret={creds.client_secret}"
      ],
      "execution_count": 0,
      "outputs": [
        {
          "output_type": "stream",
          "text": [
            "E: Package 'python-software-properties' has no installation candidate\n",
            "Selecting previously unselected package libfuse2:amd64.\n",
            "(Reading database ... 22280 files and directories currently installed.)\n",
            "Preparing to unpack .../libfuse2_2.9.7-1ubuntu1_amd64.deb ...\n",
            "Unpacking libfuse2:amd64 (2.9.7-1ubuntu1) ...\n",
            "Selecting previously unselected package fuse.\n",
            "Preparing to unpack .../fuse_2.9.7-1ubuntu1_amd64.deb ...\n",
            "Unpacking fuse (2.9.7-1ubuntu1) ...\n",
            "Selecting previously unselected package google-drive-ocamlfuse.\n",
            "Preparing to unpack .../google-drive-ocamlfuse_0.7.0-0ubuntu1~ubuntu18.04.1_amd64.deb ...\n",
            "Unpacking google-drive-ocamlfuse (0.7.0-0ubuntu1~ubuntu18.04.1) ...\n",
            "Setting up libfuse2:amd64 (2.9.7-1ubuntu1) ...\n",
            "Processing triggers for libc-bin (2.27-3ubuntu1) ...\n",
            "Setting up fuse (2.9.7-1ubuntu1) ...\n",
            "Setting up google-drive-ocamlfuse (0.7.0-0ubuntu1~ubuntu18.04.1) ...\n",
            "Please, open the following URL in a web browser: https://accounts.google.com/o/oauth2/auth?client_id=32555940559.apps.googleusercontent.com&redirect_uri=urn%3Aietf%3Awg%3Aoauth%3A2.0%3Aoob&scope=https%3A%2F%2Fwww.googleapis.com%2Fauth%2Fdrive&response_type=code&access_type=offline&approval_prompt=force\n",
            "··········\n",
            "Please, open the following URL in a web browser: https://accounts.google.com/o/oauth2/auth?client_id=32555940559.apps.googleusercontent.com&redirect_uri=urn%3Aietf%3Awg%3Aoauth%3A2.0%3Aoob&scope=https%3A%2F%2Fwww.googleapis.com%2Fauth%2Fdrive&response_type=code&access_type=offline&approval_prompt=force\n",
            "Please enter the verification code: Access token retrieved correctly.\n"
          ],
          "name": "stdout"
        }
      ]
    },
    {
      "metadata": {
        "id": "kuWSYngeiwBn",
        "colab_type": "text"
      },
      "cell_type": "markdown",
      "source": [
        "# 2 Mount Google drive"
      ]
    },
    {
      "metadata": {
        "id": "dB1m9WWRiGCG",
        "colab_type": "code",
        "colab": {}
      },
      "cell_type": "code",
      "source": [
        "#指定google drive云端硬盘根目录，名为drive\n",
        "!mkdir -p drive\n",
        "#将google drive mount到google colab工作的VM\n",
        "!google-drive-ocamlfuse drive"
      ],
      "execution_count": 0,
      "outputs": []
    },
    {
      "metadata": {
        "id": "q0q5YFBCi0yh",
        "colab_type": "text"
      },
      "cell_type": "markdown",
      "source": [
        "# 3 指定Colab Notebook工作路径"
      ]
    },
    {
      "metadata": {
        "id": "OkS4_7rQiLCH",
        "colab_type": "code",
        "colab": {}
      },
      "cell_type": "code",
      "source": [
        "import os\n",
        "os.chdir('/content/drive/GS/Code/Colab Notebooks/Quant')"
      ],
      "execution_count": 0,
      "outputs": []
    },
    {
      "metadata": {
        "id": "I3NBD3PDi7UY",
        "colab_type": "text"
      },
      "cell_type": "markdown",
      "source": [
        "# 4 将指定的Colab Notebook工作路径加入系统路径"
      ]
    },
    {
      "metadata": {
        "id": "14YyuRSZiNn-",
        "colab_type": "code",
        "outputId": "56cbecff-8e76-45fc-baf6-d9c11d2c416c",
        "colab": {
          "base_uri": "https://localhost:8080/",
          "height": 55
        }
      },
      "cell_type": "code",
      "source": [
        "import sys\n",
        "sys.path.append(\"/content/drive/Colab Notebooks/Quant/\")\n",
        "print(sys.path)"
      ],
      "execution_count": 0,
      "outputs": [
        {
          "output_type": "stream",
          "text": [
            "['', '/env/python', '/usr/lib/python36.zip', '/usr/lib/python3.6', '/usr/lib/python3.6/lib-dynload', '/usr/local/lib/python3.6/dist-packages', '/usr/lib/python3/dist-packages', '/usr/local/lib/python3.6/dist-packages/IPython/extensions', '/root/.ipython', '/content/drive/Colab Notebooks/Quant/']\n"
          ],
          "name": "stdout"
        }
      ]
    },
    {
      "metadata": {
        "id": "-luTPci6jA7R",
        "colab_type": "text"
      },
      "cell_type": "markdown",
      "source": [
        "#6  执行google drive中py文件"
      ]
    },
    {
      "metadata": {
        "id": "j_V57w1jiYjO",
        "colab_type": "code",
        "outputId": "8820d723-d0fd-41d0-d268-e35500f7ac49",
        "colab": {
          "base_uri": "https://localhost:8080/",
          "height": 35
        }
      },
      "cell_type": "code",
      "source": [
        "%cd  /content/drive/GS/Code/Colab\\ Notebooks/Quant\n",
        "\n"
      ],
      "execution_count": 0,
      "outputs": [
        {
          "output_type": "stream",
          "text": [
            "/content\n"
          ],
          "name": "stdout"
        }
      ]
    },
    {
      "metadata": {
        "id": "Cs81W2u9C8mB",
        "colab_type": "text"
      },
      "cell_type": "markdown",
      "source": [
        "# upgrade package xgboost\n",
        "(old version doesn't support gpu)"
      ]
    },
    {
      "metadata": {
        "id": "yDIH3hvF2zj4",
        "colab_type": "code",
        "outputId": "6c235254-9d1a-4b0a-ff57-3d8c847cd175",
        "colab": {
          "base_uri": "https://localhost:8080/",
          "height": 197
        }
      },
      "cell_type": "code",
      "source": [
        "!pip install --upgrade xgboost"
      ],
      "execution_count": 0,
      "outputs": [
        {
          "output_type": "stream",
          "text": [
            "Collecting xgboost\n",
            "\u001b[?25l  Downloading https://files.pythonhosted.org/packages/54/21/8b2ec99862903a6d3aed62ce156d21d114b8666e669c46d9e54041df9496/xgboost-0.81-py2.py3-none-manylinux1_x86_64.whl (16.6MB)\n",
            "\u001b[K    100% |████████████████████████████████| 16.6MB 1.8MB/s \n",
            "\u001b[?25hRequirement already satisfied, skipping upgrade: scipy in /usr/local/lib/python3.6/dist-packages (from xgboost) (1.1.0)\n",
            "Requirement already satisfied, skipping upgrade: numpy in /usr/local/lib/python3.6/dist-packages (from xgboost) (1.14.6)\n",
            "Installing collected packages: xgboost\n",
            "  Found existing installation: xgboost 0.7.post4\n",
            "    Uninstalling xgboost-0.7.post4:\n",
            "      Successfully uninstalled xgboost-0.7.post4\n",
            "Successfully installed xgboost-0.81\n"
          ],
          "name": "stdout"
        }
      ]
    },
    {
      "metadata": {
        "id": "EE2EUPidmaKm",
        "colab_type": "code",
        "outputId": "646c4419-61d9-4c69-fcd1-6162ba79d6da",
        "colab": {
          "base_uri": "https://localhost:8080/",
          "height": 8941
        }
      },
      "cell_type": "code",
      "source": [
        "%run  /content/drive/GS/Code/Colab\\ Notebooks/Quant/GS/TimeSeries/SimplePrediction/main_for_xgboost.py --subsample=0.5 --eta=1.0 --max_depth=12 --lambda=2 --min_child_weight=1 --gamma=2 --alpha=2"
      ],
      "execution_count": 0,
      "outputs": [
        {
          "output_type": "stream",
          "text": [
            "[0]\ttrain-rmse:1.08643\tvalidate-rmse:0.583632\n",
            "[99]\ttrain-rmse:0.407388\tvalidate-rmse:0.259227\n",
            "[0]\ttrain-rmse:1.08669\tvalidate-rmse:0.583943\n",
            "[99]\ttrain-rmse:0.423666\tvalidate-rmse:0.277906\n",
            "[0]\ttrain-rmse:1.08695\tvalidate-rmse:0.584254\n",
            "[99]\ttrain-rmse:0.438846\tvalidate-rmse:0.290941\n",
            "[0]\ttrain-rmse:1.08643\tvalidate-rmse:0.583632\n",
            "[99]\ttrain-rmse:0.407388\tvalidate-rmse:0.259227\n",
            "[0]\ttrain-rmse:1.08669\tvalidate-rmse:0.583943\n",
            "[99]\ttrain-rmse:0.423666\tvalidate-rmse:0.277906\n",
            "[0]\ttrain-rmse:1.08695\tvalidate-rmse:0.584254\n",
            "[99]\ttrain-rmse:0.438846\tvalidate-rmse:0.290941\n",
            "[0]\ttrain-rmse:1.08643\tvalidate-rmse:0.583632\n",
            "[99]\ttrain-rmse:0.407388\tvalidate-rmse:0.259227\n",
            "[0]\ttrain-rmse:1.08669\tvalidate-rmse:0.583943\n",
            "[99]\ttrain-rmse:0.423666\tvalidate-rmse:0.277906\n",
            "[0]\ttrain-rmse:1.08695\tvalidate-rmse:0.584254\n",
            "[99]\ttrain-rmse:0.438846\tvalidate-rmse:0.290941\n",
            "[0]\ttrain-rmse:1.08643\tvalidate-rmse:0.583632\n",
            "[99]\ttrain-rmse:0.407476\tvalidate-rmse:0.259287\n",
            "[0]\ttrain-rmse:1.08669\tvalidate-rmse:0.583943\n",
            "[99]\ttrain-rmse:0.423679\tvalidate-rmse:0.274154\n",
            "[0]\ttrain-rmse:1.08695\tvalidate-rmse:0.584254\n",
            "[99]\ttrain-rmse:0.438551\tvalidate-rmse:0.291802\n",
            "[0]\ttrain-rmse:1.08643\tvalidate-rmse:0.583632\n",
            "[99]\ttrain-rmse:0.407476\tvalidate-rmse:0.259287\n",
            "[0]\ttrain-rmse:1.08669\tvalidate-rmse:0.583943\n",
            "[99]\ttrain-rmse:0.423679\tvalidate-rmse:0.274154\n",
            "[0]\ttrain-rmse:1.08695\tvalidate-rmse:0.584254\n",
            "[99]\ttrain-rmse:0.438551\tvalidate-rmse:0.291802\n",
            "[0]\ttrain-rmse:1.08643\tvalidate-rmse:0.583632\n",
            "[99]\ttrain-rmse:0.407476\tvalidate-rmse:0.259287\n",
            "[0]\ttrain-rmse:1.08669\tvalidate-rmse:0.583943\n",
            "[99]\ttrain-rmse:0.423679\tvalidate-rmse:0.274154\n",
            "[0]\ttrain-rmse:1.08695\tvalidate-rmse:0.584254\n",
            "[99]\ttrain-rmse:0.438551\tvalidate-rmse:0.291802\n",
            "[0]\ttrain-rmse:1.08661\tvalidate-rmse:0.582868\n",
            "[99]\ttrain-rmse:0.417325\tvalidate-rmse:0.25973\n",
            "[0]\ttrain-rmse:1.0868\tvalidate-rmse:0.583225\n",
            "[99]\ttrain-rmse:0.431115\tvalidate-rmse:0.282565\n",
            "[0]\ttrain-rmse:1.08695\tvalidate-rmse:0.583919\n",
            "[99]\ttrain-rmse:0.442153\tvalidate-rmse:0.30594\n",
            "[0]\ttrain-rmse:1.08661\tvalidate-rmse:0.582868\n",
            "[99]\ttrain-rmse:0.417325\tvalidate-rmse:0.25973\n",
            "[0]\ttrain-rmse:1.0868\tvalidate-rmse:0.583225\n",
            "[99]\ttrain-rmse:0.431115\tvalidate-rmse:0.282565\n",
            "[0]\ttrain-rmse:1.08695\tvalidate-rmse:0.583919\n",
            "[99]\ttrain-rmse:0.442153\tvalidate-rmse:0.30594\n",
            "[0]\ttrain-rmse:1.08661\tvalidate-rmse:0.582868\n",
            "[99]\ttrain-rmse:0.417325\tvalidate-rmse:0.25973\n",
            "[0]\ttrain-rmse:1.0868\tvalidate-rmse:0.583225\n",
            "[99]\ttrain-rmse:0.431115\tvalidate-rmse:0.282565\n",
            "[0]\ttrain-rmse:1.08695\tvalidate-rmse:0.583919\n",
            "[99]\ttrain-rmse:0.442153\tvalidate-rmse:0.30594\n",
            "[0]\ttrain-rmse:1.08661\tvalidate-rmse:0.582868\n",
            "[99]\ttrain-rmse:0.417356\tvalidate-rmse:0.259239\n",
            "[0]\ttrain-rmse:1.0868\tvalidate-rmse:0.583225\n",
            "[99]\ttrain-rmse:0.430891\tvalidate-rmse:0.285747\n",
            "[0]\ttrain-rmse:1.08695\tvalidate-rmse:0.583919\n",
            "[99]\ttrain-rmse:0.442096\tvalidate-rmse:0.305443\n",
            "[0]\ttrain-rmse:1.08661\tvalidate-rmse:0.582868\n",
            "[99]\ttrain-rmse:0.417356\tvalidate-rmse:0.259239\n",
            "[0]\ttrain-rmse:1.0868\tvalidate-rmse:0.583225\n",
            "[99]\ttrain-rmse:0.430891\tvalidate-rmse:0.285747\n",
            "[0]\ttrain-rmse:1.08695\tvalidate-rmse:0.583919\n",
            "[99]\ttrain-rmse:0.442096\tvalidate-rmse:0.305443\n",
            "[0]\ttrain-rmse:1.08661\tvalidate-rmse:0.582868\n",
            "[99]\ttrain-rmse:0.417356\tvalidate-rmse:0.259239\n",
            "[0]\ttrain-rmse:1.0868\tvalidate-rmse:0.583225\n",
            "[99]\ttrain-rmse:0.430891\tvalidate-rmse:0.285747\n",
            "[0]\ttrain-rmse:1.08695\tvalidate-rmse:0.583919\n",
            "[99]\ttrain-rmse:0.442096\tvalidate-rmse:0.305443\n",
            "[0]\ttrain-rmse:1.08681\tvalidate-rmse:0.583716\n",
            "[99]\ttrain-rmse:0.425957\tvalidate-rmse:0.264072\n",
            "[0]\ttrain-rmse:1.08699\tvalidate-rmse:0.583991\n",
            "[99]\ttrain-rmse:0.437469\tvalidate-rmse:0.283023\n",
            "[0]\ttrain-rmse:1.08704\tvalidate-rmse:0.584267\n",
            "[99]\ttrain-rmse:0.447051\tvalidate-rmse:0.30821\n",
            "[0]\ttrain-rmse:1.08681\tvalidate-rmse:0.583716\n",
            "[99]\ttrain-rmse:0.425957\tvalidate-rmse:0.264072\n",
            "[0]\ttrain-rmse:1.08699\tvalidate-rmse:0.583991\n",
            "[99]\ttrain-rmse:0.437469\tvalidate-rmse:0.283023\n",
            "[0]\ttrain-rmse:1.08704\tvalidate-rmse:0.584267\n",
            "[99]\ttrain-rmse:0.447051\tvalidate-rmse:0.30821\n",
            "[0]\ttrain-rmse:1.08681\tvalidate-rmse:0.583716\n",
            "[99]\ttrain-rmse:0.425957\tvalidate-rmse:0.264072\n",
            "[0]\ttrain-rmse:1.08699\tvalidate-rmse:0.583991\n",
            "[99]\ttrain-rmse:0.437469\tvalidate-rmse:0.283023\n",
            "[0]\ttrain-rmse:1.08704\tvalidate-rmse:0.584267\n",
            "[99]\ttrain-rmse:0.447051\tvalidate-rmse:0.30821\n",
            "[0]\ttrain-rmse:1.08681\tvalidate-rmse:0.583716\n",
            "[99]\ttrain-rmse:0.425875\tvalidate-rmse:0.267537\n",
            "[0]\ttrain-rmse:1.08699\tvalidate-rmse:0.583991\n",
            "[99]\ttrain-rmse:0.437186\tvalidate-rmse:0.288592\n",
            "[0]\ttrain-rmse:1.08704\tvalidate-rmse:0.584267\n",
            "[99]\ttrain-rmse:0.446887\tvalidate-rmse:0.301632\n",
            "[0]\ttrain-rmse:1.08681\tvalidate-rmse:0.583716\n",
            "[99]\ttrain-rmse:0.425875\tvalidate-rmse:0.267537\n",
            "[0]\ttrain-rmse:1.08699\tvalidate-rmse:0.583991\n",
            "[99]\ttrain-rmse:0.437186\tvalidate-rmse:0.288592\n",
            "[0]\ttrain-rmse:1.08704\tvalidate-rmse:0.584267\n",
            "[99]\ttrain-rmse:0.446887\tvalidate-rmse:0.301632\n",
            "[0]\ttrain-rmse:1.08681\tvalidate-rmse:0.583716\n",
            "[99]\ttrain-rmse:0.425875\tvalidate-rmse:0.267537\n",
            "[0]\ttrain-rmse:1.08699\tvalidate-rmse:0.583991\n",
            "[99]\ttrain-rmse:0.437186\tvalidate-rmse:0.288592\n",
            "[0]\ttrain-rmse:1.08704\tvalidate-rmse:0.584267\n",
            "[99]\ttrain-rmse:0.446887\tvalidate-rmse:0.301632\n",
            "[0]\ttrain-rmse:1.08638\tvalidate-rmse:0.582914\n",
            "[99]\ttrain-rmse:0.404804\tvalidate-rmse:0.244503\n",
            "[0]\ttrain-rmse:1.08682\tvalidate-rmse:0.583539\n",
            "[99]\ttrain-rmse:0.425547\tvalidate-rmse:0.278248\n",
            "[0]\ttrain-rmse:1.08695\tvalidate-rmse:0.584254\n",
            "[99]\ttrain-rmse:0.439052\tvalidate-rmse:0.307773\n",
            "[0]\ttrain-rmse:1.08638\tvalidate-rmse:0.582914\n",
            "[99]\ttrain-rmse:0.404804\tvalidate-rmse:0.244503\n",
            "[0]\ttrain-rmse:1.08682\tvalidate-rmse:0.583539\n",
            "[99]\ttrain-rmse:0.425547\tvalidate-rmse:0.278248\n",
            "[0]\ttrain-rmse:1.08695\tvalidate-rmse:0.584254\n",
            "[99]\ttrain-rmse:0.439052\tvalidate-rmse:0.307773\n",
            "[0]\ttrain-rmse:1.08638\tvalidate-rmse:0.582914\n",
            "[99]\ttrain-rmse:0.404804\tvalidate-rmse:0.244503\n",
            "[0]\ttrain-rmse:1.08682\tvalidate-rmse:0.583539\n",
            "[99]\ttrain-rmse:0.425547\tvalidate-rmse:0.278248\n",
            "[0]\ttrain-rmse:1.08695\tvalidate-rmse:0.584254\n",
            "[99]\ttrain-rmse:0.439052\tvalidate-rmse:0.307773\n",
            "[0]\ttrain-rmse:1.08638\tvalidate-rmse:0.582914\n",
            "[99]\ttrain-rmse:0.404926\tvalidate-rmse:0.250148\n",
            "[0]\ttrain-rmse:1.08682\tvalidate-rmse:0.583539\n",
            "[99]\ttrain-rmse:0.425983\tvalidate-rmse:0.283532\n",
            "[0]\ttrain-rmse:1.08695\tvalidate-rmse:0.584254\n",
            "[99]\ttrain-rmse:0.438911\tvalidate-rmse:0.309342\n",
            "[0]\ttrain-rmse:1.08638\tvalidate-rmse:0.582914\n",
            "[99]\ttrain-rmse:0.404926\tvalidate-rmse:0.250148\n",
            "[0]\ttrain-rmse:1.08682\tvalidate-rmse:0.583539\n",
            "[99]\ttrain-rmse:0.425983\tvalidate-rmse:0.283532\n",
            "[0]\ttrain-rmse:1.08695\tvalidate-rmse:0.584254\n",
            "[99]\ttrain-rmse:0.438911\tvalidate-rmse:0.309342\n",
            "[0]\ttrain-rmse:1.08638\tvalidate-rmse:0.582914\n",
            "[99]\ttrain-rmse:0.404926\tvalidate-rmse:0.250148\n",
            "[0]\ttrain-rmse:1.08682\tvalidate-rmse:0.583539\n",
            "[99]\ttrain-rmse:0.425983\tvalidate-rmse:0.283532\n",
            "[0]\ttrain-rmse:1.08695\tvalidate-rmse:0.584254\n",
            "[99]\ttrain-rmse:0.438911\tvalidate-rmse:0.309342\n",
            "[0]\ttrain-rmse:1.08661\tvalidate-rmse:0.582868\n",
            "[99]\ttrain-rmse:0.417185\tvalidate-rmse:0.258051\n",
            "[0]\ttrain-rmse:1.0868\tvalidate-rmse:0.583225\n",
            "[99]\ttrain-rmse:0.431018\tvalidate-rmse:0.284937\n",
            "[0]\ttrain-rmse:1.08695\tvalidate-rmse:0.583919\n",
            "[99]\ttrain-rmse:0.442598\tvalidate-rmse:0.316674\n",
            "[0]\ttrain-rmse:1.08661\tvalidate-rmse:0.582868\n",
            "[99]\ttrain-rmse:0.417185\tvalidate-rmse:0.258051\n",
            "[0]\ttrain-rmse:1.0868\tvalidate-rmse:0.583225\n",
            "[99]\ttrain-rmse:0.431018\tvalidate-rmse:0.284937\n",
            "[0]\ttrain-rmse:1.08695\tvalidate-rmse:0.583919\n",
            "[99]\ttrain-rmse:0.442598\tvalidate-rmse:0.316674\n",
            "[0]\ttrain-rmse:1.08661\tvalidate-rmse:0.582868\n",
            "[99]\ttrain-rmse:0.417185\tvalidate-rmse:0.258051\n",
            "[0]\ttrain-rmse:1.0868\tvalidate-rmse:0.583225\n",
            "[99]\ttrain-rmse:0.431018\tvalidate-rmse:0.284937\n",
            "[0]\ttrain-rmse:1.08695\tvalidate-rmse:0.583919\n",
            "[99]\ttrain-rmse:0.442598\tvalidate-rmse:0.316674\n",
            "[0]\ttrain-rmse:1.08661\tvalidate-rmse:0.582868\n",
            "[99]\ttrain-rmse:0.417279\tvalidate-rmse:0.26113\n",
            "[0]\ttrain-rmse:1.0868\tvalidate-rmse:0.583225\n",
            "[99]\ttrain-rmse:0.430921\tvalidate-rmse:0.287377\n",
            "[0]\ttrain-rmse:1.08695\tvalidate-rmse:0.583919\n",
            "[99]\ttrain-rmse:0.442152\tvalidate-rmse:0.315944\n",
            "[0]\ttrain-rmse:1.08661\tvalidate-rmse:0.582868\n",
            "[99]\ttrain-rmse:0.417279\tvalidate-rmse:0.26113\n",
            "[0]\ttrain-rmse:1.0868\tvalidate-rmse:0.583225\n",
            "[99]\ttrain-rmse:0.430921\tvalidate-rmse:0.287377\n",
            "[0]\ttrain-rmse:1.08695\tvalidate-rmse:0.583919\n",
            "[99]\ttrain-rmse:0.442152\tvalidate-rmse:0.315944\n",
            "[0]\ttrain-rmse:1.08661\tvalidate-rmse:0.582868\n",
            "[99]\ttrain-rmse:0.417279\tvalidate-rmse:0.26113\n",
            "[0]\ttrain-rmse:1.0868\tvalidate-rmse:0.583225\n",
            "[99]\ttrain-rmse:0.430921\tvalidate-rmse:0.287377\n",
            "[0]\ttrain-rmse:1.08695\tvalidate-rmse:0.583919\n",
            "[99]\ttrain-rmse:0.442152\tvalidate-rmse:0.315944\n",
            "[0]\ttrain-rmse:1.08681\tvalidate-rmse:0.583716\n",
            "[99]\ttrain-rmse:0.426023\tvalidate-rmse:0.264171\n",
            "[0]\ttrain-rmse:1.08699\tvalidate-rmse:0.583991\n",
            "[99]\ttrain-rmse:0.437453\tvalidate-rmse:0.286912\n",
            "[0]\ttrain-rmse:1.08704\tvalidate-rmse:0.584267\n",
            "[99]\ttrain-rmse:0.446826\tvalidate-rmse:0.309231\n",
            "[0]\ttrain-rmse:1.08681\tvalidate-rmse:0.583716\n",
            "[99]\ttrain-rmse:0.426023\tvalidate-rmse:0.264171\n",
            "[0]\ttrain-rmse:1.08699\tvalidate-rmse:0.583991\n",
            "[99]\ttrain-rmse:0.437453\tvalidate-rmse:0.286912\n",
            "[0]\ttrain-rmse:1.08704\tvalidate-rmse:0.584267\n",
            "[99]\ttrain-rmse:0.446826\tvalidate-rmse:0.309231\n",
            "[0]\ttrain-rmse:1.08681\tvalidate-rmse:0.583716\n",
            "[99]\ttrain-rmse:0.426023\tvalidate-rmse:0.264171\n",
            "[0]\ttrain-rmse:1.08699\tvalidate-rmse:0.583991\n",
            "[99]\ttrain-rmse:0.437453\tvalidate-rmse:0.286912\n",
            "[0]\ttrain-rmse:1.08704\tvalidate-rmse:0.584267\n",
            "[99]\ttrain-rmse:0.446826\tvalidate-rmse:0.309231\n",
            "[0]\ttrain-rmse:1.08681\tvalidate-rmse:0.583716\n",
            "[99]\ttrain-rmse:0.425834\tvalidate-rmse:0.266526\n",
            "[0]\ttrain-rmse:1.08699\tvalidate-rmse:0.583991\n",
            "[99]\ttrain-rmse:0.436981\tvalidate-rmse:0.292256\n",
            "[0]\ttrain-rmse:1.08704\tvalidate-rmse:0.584267\n",
            "[99]\ttrain-rmse:0.446901\tvalidate-rmse:0.310986\n",
            "[0]\ttrain-rmse:1.08681\tvalidate-rmse:0.583716\n",
            "[99]\ttrain-rmse:0.425834\tvalidate-rmse:0.266526\n",
            "[0]\ttrain-rmse:1.08699\tvalidate-rmse:0.583991\n",
            "[99]\ttrain-rmse:0.436981\tvalidate-rmse:0.292256\n",
            "[0]\ttrain-rmse:1.08704\tvalidate-rmse:0.584267\n",
            "[99]\ttrain-rmse:0.446901\tvalidate-rmse:0.310986\n",
            "[0]\ttrain-rmse:1.08681\tvalidate-rmse:0.583716\n",
            "[99]\ttrain-rmse:0.425834\tvalidate-rmse:0.266526\n",
            "[0]\ttrain-rmse:1.08699\tvalidate-rmse:0.583991\n",
            "[99]\ttrain-rmse:0.436981\tvalidate-rmse:0.292256\n",
            "[0]\ttrain-rmse:1.08704\tvalidate-rmse:0.584267\n",
            "[99]\ttrain-rmse:0.446901\tvalidate-rmse:0.310986\n",
            "[0]\ttrain-rmse:0.088856\tvalidate-rmse:0.16615\n",
            "[99]\ttrain-rmse:0.01729\tvalidate-rmse:0.160265\n",
            "[0]\ttrain-rmse:0.093602\tvalidate-rmse:0.182055\n",
            "[99]\ttrain-rmse:0.051682\tvalidate-rmse:0.125858\n",
            "[0]\ttrain-rmse:0.108197\tvalidate-rmse:0.201986\n",
            "[99]\ttrain-rmse:0.074048\tvalidate-rmse:0.117819\n",
            "[0]\ttrain-rmse:0.088856\tvalidate-rmse:0.16615\n",
            "[99]\ttrain-rmse:0.01729\tvalidate-rmse:0.160265\n",
            "[0]\ttrain-rmse:0.093602\tvalidate-rmse:0.182055\n",
            "[99]\ttrain-rmse:0.051682\tvalidate-rmse:0.125858\n",
            "[0]\ttrain-rmse:0.108197\tvalidate-rmse:0.201986\n",
            "[99]\ttrain-rmse:0.074048\tvalidate-rmse:0.117819\n",
            "[0]\ttrain-rmse:0.088856\tvalidate-rmse:0.16615\n",
            "[99]\ttrain-rmse:0.01729\tvalidate-rmse:0.160265\n",
            "[0]\ttrain-rmse:0.093602\tvalidate-rmse:0.182055\n",
            "[99]\ttrain-rmse:0.051682\tvalidate-rmse:0.125858\n",
            "[0]\ttrain-rmse:0.108197\tvalidate-rmse:0.201986\n",
            "[99]\ttrain-rmse:0.074048\tvalidate-rmse:0.117819\n",
            "[0]\ttrain-rmse:0.088856\tvalidate-rmse:0.16615\n",
            "[99]\ttrain-rmse:0.02227\tvalidate-rmse:0.46093\n",
            "[0]\ttrain-rmse:0.093602\tvalidate-rmse:0.182055\n",
            "[99]\ttrain-rmse:0.051841\tvalidate-rmse:0.124368\n",
            "[0]\ttrain-rmse:0.108197\tvalidate-rmse:0.201986\n",
            "[99]\ttrain-rmse:0.070582\tvalidate-rmse:0.147812\n",
            "[0]\ttrain-rmse:0.088856\tvalidate-rmse:0.16615\n",
            "[99]\ttrain-rmse:0.02227\tvalidate-rmse:0.46093\n",
            "[0]\ttrain-rmse:0.093602\tvalidate-rmse:0.182055\n",
            "[99]\ttrain-rmse:0.051841\tvalidate-rmse:0.124368\n",
            "[0]\ttrain-rmse:0.108197\tvalidate-rmse:0.201986\n",
            "[99]\ttrain-rmse:0.070582\tvalidate-rmse:0.147812\n",
            "[0]\ttrain-rmse:0.088856\tvalidate-rmse:0.16615\n",
            "[99]\ttrain-rmse:0.02227\tvalidate-rmse:0.46093\n",
            "[0]\ttrain-rmse:0.093602\tvalidate-rmse:0.182055\n",
            "[99]\ttrain-rmse:0.051841\tvalidate-rmse:0.124368\n",
            "[0]\ttrain-rmse:0.108197\tvalidate-rmse:0.201986\n",
            "[99]\ttrain-rmse:0.070582\tvalidate-rmse:0.147812\n",
            "[0]\ttrain-rmse:0.12299\tvalidate-rmse:0.151609\n",
            "[99]\ttrain-rmse:0.020227\tvalidate-rmse:0.289928\n",
            "[0]\ttrain-rmse:0.135236\tvalidate-rmse:0.153474\n",
            "[99]\ttrain-rmse:0.059569\tvalidate-rmse:0.166834\n",
            "[0]\ttrain-rmse:0.145385\tvalidate-rmse:0.180664\n",
            "[99]\ttrain-rmse:0.074495\tvalidate-rmse:0.144892\n",
            "[0]\ttrain-rmse:0.12299\tvalidate-rmse:0.151609\n",
            "[99]\ttrain-rmse:0.020227\tvalidate-rmse:0.289928\n",
            "[0]\ttrain-rmse:0.135236\tvalidate-rmse:0.153474\n",
            "[99]\ttrain-rmse:0.059569\tvalidate-rmse:0.166834\n",
            "[0]\ttrain-rmse:0.145385\tvalidate-rmse:0.180664\n",
            "[99]\ttrain-rmse:0.074495\tvalidate-rmse:0.144892\n",
            "[0]\ttrain-rmse:0.12299\tvalidate-rmse:0.151609\n",
            "[99]\ttrain-rmse:0.020227\tvalidate-rmse:0.289928\n",
            "[0]\ttrain-rmse:0.135236\tvalidate-rmse:0.153474\n",
            "[99]\ttrain-rmse:0.059569\tvalidate-rmse:0.166834\n",
            "[0]\ttrain-rmse:0.145385\tvalidate-rmse:0.180664\n",
            "[99]\ttrain-rmse:0.074495\tvalidate-rmse:0.144892\n",
            "[0]\ttrain-rmse:0.12299\tvalidate-rmse:0.151609\n",
            "[99]\ttrain-rmse:0.016603\tvalidate-rmse:0.166489\n",
            "[0]\ttrain-rmse:0.135236\tvalidate-rmse:0.153474\n",
            "[99]\ttrain-rmse:0.059408\tvalidate-rmse:0.156082\n",
            "[0]\ttrain-rmse:0.145385\tvalidate-rmse:0.180664\n",
            "[99]\ttrain-rmse:0.073211\tvalidate-rmse:0.143996\n",
            "[0]\ttrain-rmse:0.12299\tvalidate-rmse:0.151609\n",
            "[99]\ttrain-rmse:0.016603\tvalidate-rmse:0.166489\n",
            "[0]\ttrain-rmse:0.135236\tvalidate-rmse:0.153474\n",
            "[99]\ttrain-rmse:0.059408\tvalidate-rmse:0.156082\n",
            "[0]\ttrain-rmse:0.145385\tvalidate-rmse:0.180664\n",
            "[99]\ttrain-rmse:0.073211\tvalidate-rmse:0.143996\n",
            "[0]\ttrain-rmse:0.12299\tvalidate-rmse:0.151609\n",
            "[99]\ttrain-rmse:0.016603\tvalidate-rmse:0.166489\n",
            "[0]\ttrain-rmse:0.135236\tvalidate-rmse:0.153474\n",
            "[99]\ttrain-rmse:0.059408\tvalidate-rmse:0.156082\n",
            "[0]\ttrain-rmse:0.145385\tvalidate-rmse:0.180664\n",
            "[99]\ttrain-rmse:0.073211\tvalidate-rmse:0.143996\n",
            "[0]\ttrain-rmse:0.135856\tvalidate-rmse:0.169978\n",
            "[99]\ttrain-rmse:0.016973\tvalidate-rmse:0.203452\n",
            "[0]\ttrain-rmse:0.145523\tvalidate-rmse:0.184927\n",
            "[99]\ttrain-rmse:0.057838\tvalidate-rmse:0.151721\n",
            "[0]\ttrain-rmse:0.174365\tvalidate-rmse:0.20289\n",
            "[99]\ttrain-rmse:0.077932\tvalidate-rmse:0.09592\n",
            "[0]\ttrain-rmse:0.135856\tvalidate-rmse:0.169978\n",
            "[99]\ttrain-rmse:0.016973\tvalidate-rmse:0.203452\n",
            "[0]\ttrain-rmse:0.145523\tvalidate-rmse:0.184927\n",
            "[99]\ttrain-rmse:0.057838\tvalidate-rmse:0.151721\n",
            "[0]\ttrain-rmse:0.174365\tvalidate-rmse:0.20289\n",
            "[99]\ttrain-rmse:0.077932\tvalidate-rmse:0.09592\n",
            "[0]\ttrain-rmse:0.135856\tvalidate-rmse:0.169978\n",
            "[99]\ttrain-rmse:0.016973\tvalidate-rmse:0.203452\n",
            "[0]\ttrain-rmse:0.145523\tvalidate-rmse:0.184927\n",
            "[99]\ttrain-rmse:0.057838\tvalidate-rmse:0.151721\n",
            "[0]\ttrain-rmse:0.174365\tvalidate-rmse:0.20289\n",
            "[99]\ttrain-rmse:0.077932\tvalidate-rmse:0.09592\n",
            "[0]\ttrain-rmse:0.135856\tvalidate-rmse:0.169978\n",
            "[99]\ttrain-rmse:0.019862\tvalidate-rmse:0.221165\n",
            "[0]\ttrain-rmse:0.145523\tvalidate-rmse:0.184927\n",
            "[99]\ttrain-rmse:0.059093\tvalidate-rmse:0.099571\n",
            "[0]\ttrain-rmse:0.174365\tvalidate-rmse:0.20289\n",
            "[99]\ttrain-rmse:0.078109\tvalidate-rmse:0.138616\n",
            "[0]\ttrain-rmse:0.135856\tvalidate-rmse:0.169978\n",
            "[99]\ttrain-rmse:0.019862\tvalidate-rmse:0.221165\n",
            "[0]\ttrain-rmse:0.145523\tvalidate-rmse:0.184927\n",
            "[99]\ttrain-rmse:0.059093\tvalidate-rmse:0.099571\n",
            "[0]\ttrain-rmse:0.174365\tvalidate-rmse:0.20289\n",
            "[99]\ttrain-rmse:0.078109\tvalidate-rmse:0.138616\n",
            "[0]\ttrain-rmse:0.135856\tvalidate-rmse:0.169978\n",
            "[99]\ttrain-rmse:0.019862\tvalidate-rmse:0.221165\n",
            "[0]\ttrain-rmse:0.145523\tvalidate-rmse:0.184927\n",
            "[99]\ttrain-rmse:0.059093\tvalidate-rmse:0.099571\n",
            "[0]\ttrain-rmse:0.174365\tvalidate-rmse:0.20289\n",
            "[99]\ttrain-rmse:0.078109\tvalidate-rmse:0.138616\n",
            "[0]\ttrain-rmse:0.065236\tvalidate-rmse:0.133199\n",
            "[99]\ttrain-rmse:0.00326\tvalidate-rmse:0.324557\n",
            "[0]\ttrain-rmse:0.085269\tvalidate-rmse:0.162375\n",
            "[99]\ttrain-rmse:0.045573\tvalidate-rmse:0.159161\n",
            "[0]\ttrain-rmse:0.108197\tvalidate-rmse:0.201986\n",
            "[99]\ttrain-rmse:0.071408\tvalidate-rmse:0.168925\n",
            "[0]\ttrain-rmse:0.065236\tvalidate-rmse:0.133199\n",
            "[99]\ttrain-rmse:0.00326\tvalidate-rmse:0.324557\n",
            "[0]\ttrain-rmse:0.085269\tvalidate-rmse:0.162375\n",
            "[99]\ttrain-rmse:0.045573\tvalidate-rmse:0.159161\n",
            "[0]\ttrain-rmse:0.108197\tvalidate-rmse:0.201986\n",
            "[99]\ttrain-rmse:0.071408\tvalidate-rmse:0.168925\n",
            "[0]\ttrain-rmse:0.065236\tvalidate-rmse:0.133199\n",
            "[99]\ttrain-rmse:0.00326\tvalidate-rmse:0.324557\n",
            "[0]\ttrain-rmse:0.085269\tvalidate-rmse:0.162375\n",
            "[99]\ttrain-rmse:0.045573\tvalidate-rmse:0.159161\n",
            "[0]\ttrain-rmse:0.108197\tvalidate-rmse:0.201986\n",
            "[99]\ttrain-rmse:0.071408\tvalidate-rmse:0.168925\n",
            "[0]\ttrain-rmse:0.065236\tvalidate-rmse:0.133199\n",
            "[99]\ttrain-rmse:0.00652\tvalidate-rmse:0.325952\n",
            "[0]\ttrain-rmse:0.085269\tvalidate-rmse:0.162375\n",
            "[99]\ttrain-rmse:0.050334\tvalidate-rmse:0.125172\n",
            "[0]\ttrain-rmse:0.108197\tvalidate-rmse:0.201986\n",
            "[99]\ttrain-rmse:0.066249\tvalidate-rmse:0.196301\n",
            "[0]\ttrain-rmse:0.065236\tvalidate-rmse:0.133199\n",
            "[99]\ttrain-rmse:0.00652\tvalidate-rmse:0.325952\n",
            "[0]\ttrain-rmse:0.085269\tvalidate-rmse:0.162375\n",
            "[99]\ttrain-rmse:0.050334\tvalidate-rmse:0.125172\n",
            "[0]\ttrain-rmse:0.108197\tvalidate-rmse:0.201986\n",
            "[99]\ttrain-rmse:0.066249\tvalidate-rmse:0.196301\n",
            "[0]\ttrain-rmse:0.065236\tvalidate-rmse:0.133199\n",
            "[99]\ttrain-rmse:0.00652\tvalidate-rmse:0.325952\n",
            "[0]\ttrain-rmse:0.085269\tvalidate-rmse:0.162375\n",
            "[99]\ttrain-rmse:0.050334\tvalidate-rmse:0.125172\n",
            "[0]\ttrain-rmse:0.108197\tvalidate-rmse:0.201986\n",
            "[99]\ttrain-rmse:0.066249\tvalidate-rmse:0.196301\n",
            "[0]\ttrain-rmse:0.12299\tvalidate-rmse:0.151609\n",
            "[99]\ttrain-rmse:0.000262\tvalidate-rmse:0.179803\n",
            "[0]\ttrain-rmse:0.135236\tvalidate-rmse:0.153474\n",
            "[99]\ttrain-rmse:0.049783\tvalidate-rmse:0.149566\n",
            "[0]\ttrain-rmse:0.145385\tvalidate-rmse:0.180664\n",
            "[99]\ttrain-rmse:0.061136\tvalidate-rmse:0.151772\n",
            "[0]\ttrain-rmse:0.12299\tvalidate-rmse:0.151609\n",
            "[99]\ttrain-rmse:0.000262\tvalidate-rmse:0.179803\n",
            "[0]\ttrain-rmse:0.135236\tvalidate-rmse:0.153474\n",
            "[99]\ttrain-rmse:0.049783\tvalidate-rmse:0.149566\n",
            "[0]\ttrain-rmse:0.145385\tvalidate-rmse:0.180664\n",
            "[99]\ttrain-rmse:0.061136\tvalidate-rmse:0.151772\n",
            "[0]\ttrain-rmse:0.12299\tvalidate-rmse:0.151609\n",
            "[99]\ttrain-rmse:0.000262\tvalidate-rmse:0.179803\n",
            "[0]\ttrain-rmse:0.135236\tvalidate-rmse:0.153474\n",
            "[99]\ttrain-rmse:0.049783\tvalidate-rmse:0.149566\n",
            "[0]\ttrain-rmse:0.145385\tvalidate-rmse:0.180664\n",
            "[99]\ttrain-rmse:0.061136\tvalidate-rmse:0.151772\n",
            "[0]\ttrain-rmse:0.12299\tvalidate-rmse:0.151609\n",
            "[99]\ttrain-rmse:0.000296\tvalidate-rmse:0.190843\n",
            "[0]\ttrain-rmse:0.135236\tvalidate-rmse:0.153474\n",
            "[99]\ttrain-rmse:0.052668\tvalidate-rmse:0.146578\n",
            "[0]\ttrain-rmse:0.145385\tvalidate-rmse:0.180664\n",
            "[99]\ttrain-rmse:0.065801\tvalidate-rmse:0.12217\n",
            "[0]\ttrain-rmse:0.12299\tvalidate-rmse:0.151609\n",
            "[99]\ttrain-rmse:0.000296\tvalidate-rmse:0.190843\n",
            "[0]\ttrain-rmse:0.135236\tvalidate-rmse:0.153474\n",
            "[99]\ttrain-rmse:0.052668\tvalidate-rmse:0.146578\n",
            "[0]\ttrain-rmse:0.145385\tvalidate-rmse:0.180664\n",
            "[99]\ttrain-rmse:0.065801\tvalidate-rmse:0.12217\n",
            "[0]\ttrain-rmse:0.12299\tvalidate-rmse:0.151609\n",
            "[99]\ttrain-rmse:0.000296\tvalidate-rmse:0.190843\n",
            "[0]\ttrain-rmse:0.135236\tvalidate-rmse:0.153474\n",
            "[99]\ttrain-rmse:0.052668\tvalidate-rmse:0.146578\n",
            "[0]\ttrain-rmse:0.145385\tvalidate-rmse:0.180664\n",
            "[99]\ttrain-rmse:0.065801\tvalidate-rmse:0.12217\n",
            "[0]\ttrain-rmse:0.135856\tvalidate-rmse:0.169978\n",
            "[99]\ttrain-rmse:0.000291\tvalidate-rmse:0.116097\n",
            "[0]\ttrain-rmse:0.145523\tvalidate-rmse:0.184927\n",
            "[99]\ttrain-rmse:0.048828\tvalidate-rmse:0.105021\n",
            "[0]\ttrain-rmse:0.174365\tvalidate-rmse:0.20289\n",
            "[99]\ttrain-rmse:0.069404\tvalidate-rmse:0.090098\n",
            "[0]\ttrain-rmse:0.135856\tvalidate-rmse:0.169978\n",
            "[99]\ttrain-rmse:0.000291\tvalidate-rmse:0.116097\n",
            "[0]\ttrain-rmse:0.145523\tvalidate-rmse:0.184927\n",
            "[99]\ttrain-rmse:0.048828\tvalidate-rmse:0.105021\n",
            "[0]\ttrain-rmse:0.174365\tvalidate-rmse:0.20289\n",
            "[99]\ttrain-rmse:0.069404\tvalidate-rmse:0.090098\n",
            "[0]\ttrain-rmse:0.135856\tvalidate-rmse:0.169978\n",
            "[99]\ttrain-rmse:0.000291\tvalidate-rmse:0.116097\n",
            "[0]\ttrain-rmse:0.145523\tvalidate-rmse:0.184927\n",
            "[99]\ttrain-rmse:0.048828\tvalidate-rmse:0.105021\n",
            "[0]\ttrain-rmse:0.174365\tvalidate-rmse:0.20289\n",
            "[99]\ttrain-rmse:0.069404\tvalidate-rmse:0.090098\n",
            "[0]\ttrain-rmse:0.135856\tvalidate-rmse:0.169978\n",
            "[99]\ttrain-rmse:0.000303\tvalidate-rmse:0.150897\n",
            "[0]\ttrain-rmse:0.145523\tvalidate-rmse:0.184927\n",
            "[99]\ttrain-rmse:0.052412\tvalidate-rmse:0.169986\n",
            "[0]\ttrain-rmse:0.174365\tvalidate-rmse:0.20289\n",
            "[99]\ttrain-rmse:0.071621\tvalidate-rmse:0.156684\n",
            "[0]\ttrain-rmse:0.135856\tvalidate-rmse:0.169978\n",
            "[99]\ttrain-rmse:0.000303\tvalidate-rmse:0.150897\n",
            "[0]\ttrain-rmse:0.145523\tvalidate-rmse:0.184927\n",
            "[99]\ttrain-rmse:0.052412\tvalidate-rmse:0.169986\n",
            "[0]\ttrain-rmse:0.174365\tvalidate-rmse:0.20289\n",
            "[99]\ttrain-rmse:0.071621\tvalidate-rmse:0.156684\n",
            "[0]\ttrain-rmse:0.135856\tvalidate-rmse:0.169978\n",
            "[99]\ttrain-rmse:0.000303\tvalidate-rmse:0.150897\n",
            "[0]\ttrain-rmse:0.145523\tvalidate-rmse:0.184927\n",
            "[99]\ttrain-rmse:0.052412\tvalidate-rmse:0.169986\n",
            "[0]\ttrain-rmse:0.174365\tvalidate-rmse:0.20289\n",
            "[99]\ttrain-rmse:0.071621\tvalidate-rmse:0.156684\n",
            "xgboost prediction and trading simulation with gridsearch on 216 combination of parameters took 415.25078602599933s.\n",
            "bdart_s0.5_e0.01_maxd14_l0.1_minc0.0_g0.0_a4.0 has minimum mse.\n",
            "test pnl result is: \n",
            " binary             0.9989523317\n",
            "binary_buy_hold    0.9989545124\n",
            "Name: 1999, dtype: float64\n"
          ],
          "name": "stdout"
        },
        {
          "output_type": "stream",
          "text": [
            "/usr/local/lib/python3.6/dist-packages/pandas/plotting/_core.py:1716: UserWarning: Pandas doesn't allow columns to be created via a new attribute name - see https://pandas.pydata.org/pandas-docs/stable/indexing.html#attribute-access\n",
            "  series.name = label\n",
            "/usr/local/lib/python3.6/dist-packages/pandas/plotting/_core.py:1716: UserWarning: Pandas doesn't allow columns to be created via a new attribute name - see https://pandas.pydata.org/pandas-docs/stable/indexing.html#attribute-access\n",
            "  series.name = label\n"
          ],
          "name": "stderr"
        },
        {
          "output_type": "error",
          "ename": "AttributeError",
          "evalue": "ignored",
          "traceback": [
            "\u001b[0;31m---------------------------------------------------------------------------\u001b[0m",
            "\u001b[0;31mAttributeError\u001b[0m                            Traceback (most recent call last)",
            "\u001b[0;32m<ipython-input-7-db75afc2b7e9>\u001b[0m in \u001b[0;36m<module>\u001b[0;34m()\u001b[0m\n\u001b[0;32m----> 1\u001b[0;31m \u001b[0mget_ipython\u001b[0m\u001b[0;34m(\u001b[0m\u001b[0;34m)\u001b[0m\u001b[0;34m.\u001b[0m\u001b[0mmagic\u001b[0m\u001b[0;34m(\u001b[0m\u001b[0;34m'run /content/drive/GS/Code/Colab\\\\ Notebooks/Quant/GS/TimeSeries/SimplePrediction/main_for_xgboost.py --subsample=0.5 --eta=1.0 --max_depth=12 --lambda=2 --min_child_weight=1 --gamma=2 --alpha=2'\u001b[0m\u001b[0;34m)\u001b[0m\u001b[0;34m\u001b[0m\u001b[0m\n\u001b[0m",
            "\u001b[0;32m/usr/local/lib/python3.6/dist-packages/IPython/core/interactiveshell.py\u001b[0m in \u001b[0;36mmagic\u001b[0;34m(self, arg_s)\u001b[0m\n\u001b[1;32m   2158\u001b[0m         \u001b[0mmagic_name\u001b[0m\u001b[0;34m,\u001b[0m \u001b[0m_\u001b[0m\u001b[0;34m,\u001b[0m \u001b[0mmagic_arg_s\u001b[0m \u001b[0;34m=\u001b[0m \u001b[0marg_s\u001b[0m\u001b[0;34m.\u001b[0m\u001b[0mpartition\u001b[0m\u001b[0;34m(\u001b[0m\u001b[0;34m' '\u001b[0m\u001b[0;34m)\u001b[0m\u001b[0;34m\u001b[0m\u001b[0m\n\u001b[1;32m   2159\u001b[0m         \u001b[0mmagic_name\u001b[0m \u001b[0;34m=\u001b[0m \u001b[0mmagic_name\u001b[0m\u001b[0;34m.\u001b[0m\u001b[0mlstrip\u001b[0m\u001b[0;34m(\u001b[0m\u001b[0mprefilter\u001b[0m\u001b[0;34m.\u001b[0m\u001b[0mESC_MAGIC\u001b[0m\u001b[0;34m)\u001b[0m\u001b[0;34m\u001b[0m\u001b[0m\n\u001b[0;32m-> 2160\u001b[0;31m         \u001b[0;32mreturn\u001b[0m \u001b[0mself\u001b[0m\u001b[0;34m.\u001b[0m\u001b[0mrun_line_magic\u001b[0m\u001b[0;34m(\u001b[0m\u001b[0mmagic_name\u001b[0m\u001b[0;34m,\u001b[0m \u001b[0mmagic_arg_s\u001b[0m\u001b[0;34m)\u001b[0m\u001b[0;34m\u001b[0m\u001b[0m\n\u001b[0m\u001b[1;32m   2161\u001b[0m \u001b[0;34m\u001b[0m\u001b[0m\n\u001b[1;32m   2162\u001b[0m     \u001b[0;31m#-------------------------------------------------------------------------\u001b[0m\u001b[0;34m\u001b[0m\u001b[0;34m\u001b[0m\u001b[0m\n",
            "\u001b[0;32m/usr/local/lib/python3.6/dist-packages/IPython/core/interactiveshell.py\u001b[0m in \u001b[0;36mrun_line_magic\u001b[0;34m(self, magic_name, line)\u001b[0m\n\u001b[1;32m   2079\u001b[0m                 \u001b[0mkwargs\u001b[0m\u001b[0;34m[\u001b[0m\u001b[0;34m'local_ns'\u001b[0m\u001b[0;34m]\u001b[0m \u001b[0;34m=\u001b[0m \u001b[0msys\u001b[0m\u001b[0;34m.\u001b[0m\u001b[0m_getframe\u001b[0m\u001b[0;34m(\u001b[0m\u001b[0mstack_depth\u001b[0m\u001b[0;34m)\u001b[0m\u001b[0;34m.\u001b[0m\u001b[0mf_locals\u001b[0m\u001b[0;34m\u001b[0m\u001b[0m\n\u001b[1;32m   2080\u001b[0m             \u001b[0;32mwith\u001b[0m \u001b[0mself\u001b[0m\u001b[0;34m.\u001b[0m\u001b[0mbuiltin_trap\u001b[0m\u001b[0;34m:\u001b[0m\u001b[0;34m\u001b[0m\u001b[0m\n\u001b[0;32m-> 2081\u001b[0;31m                 \u001b[0mresult\u001b[0m \u001b[0;34m=\u001b[0m \u001b[0mfn\u001b[0m\u001b[0;34m(\u001b[0m\u001b[0;34m*\u001b[0m\u001b[0margs\u001b[0m\u001b[0;34m,\u001b[0m\u001b[0;34m**\u001b[0m\u001b[0mkwargs\u001b[0m\u001b[0;34m)\u001b[0m\u001b[0;34m\u001b[0m\u001b[0m\n\u001b[0m\u001b[1;32m   2082\u001b[0m             \u001b[0;32mreturn\u001b[0m \u001b[0mresult\u001b[0m\u001b[0;34m\u001b[0m\u001b[0m\n\u001b[1;32m   2083\u001b[0m \u001b[0;34m\u001b[0m\u001b[0m\n",
            "\u001b[0;32m<decorator-gen-58>\u001b[0m in \u001b[0;36mrun\u001b[0;34m(self, parameter_s, runner, file_finder)\u001b[0m\n",
            "\u001b[0;32m/usr/local/lib/python3.6/dist-packages/IPython/core/magic.py\u001b[0m in \u001b[0;36m<lambda>\u001b[0;34m(f, *a, **k)\u001b[0m\n\u001b[1;32m    186\u001b[0m     \u001b[0;31m# but it's overkill for just that one bit of state.\u001b[0m\u001b[0;34m\u001b[0m\u001b[0;34m\u001b[0m\u001b[0m\n\u001b[1;32m    187\u001b[0m     \u001b[0;32mdef\u001b[0m \u001b[0mmagic_deco\u001b[0m\u001b[0;34m(\u001b[0m\u001b[0marg\u001b[0m\u001b[0;34m)\u001b[0m\u001b[0;34m:\u001b[0m\u001b[0;34m\u001b[0m\u001b[0m\n\u001b[0;32m--> 188\u001b[0;31m         \u001b[0mcall\u001b[0m \u001b[0;34m=\u001b[0m \u001b[0;32mlambda\u001b[0m \u001b[0mf\u001b[0m\u001b[0;34m,\u001b[0m \u001b[0;34m*\u001b[0m\u001b[0ma\u001b[0m\u001b[0;34m,\u001b[0m \u001b[0;34m**\u001b[0m\u001b[0mk\u001b[0m\u001b[0;34m:\u001b[0m \u001b[0mf\u001b[0m\u001b[0;34m(\u001b[0m\u001b[0;34m*\u001b[0m\u001b[0ma\u001b[0m\u001b[0;34m,\u001b[0m \u001b[0;34m**\u001b[0m\u001b[0mk\u001b[0m\u001b[0;34m)\u001b[0m\u001b[0;34m\u001b[0m\u001b[0m\n\u001b[0m\u001b[1;32m    189\u001b[0m \u001b[0;34m\u001b[0m\u001b[0m\n\u001b[1;32m    190\u001b[0m         \u001b[0;32mif\u001b[0m \u001b[0mcallable\u001b[0m\u001b[0;34m(\u001b[0m\u001b[0marg\u001b[0m\u001b[0;34m)\u001b[0m\u001b[0;34m:\u001b[0m\u001b[0;34m\u001b[0m\u001b[0m\n",
            "\u001b[0;32m/usr/local/lib/python3.6/dist-packages/IPython/core/magics/execution.py\u001b[0m in \u001b[0;36mrun\u001b[0;34m(self, parameter_s, runner, file_finder)\u001b[0m\n\u001b[1;32m    740\u001b[0m                     \u001b[0;32melse\u001b[0m\u001b[0;34m:\u001b[0m\u001b[0;34m\u001b[0m\u001b[0m\n\u001b[1;32m    741\u001b[0m                         \u001b[0;31m# regular execution\u001b[0m\u001b[0;34m\u001b[0m\u001b[0;34m\u001b[0m\u001b[0m\n\u001b[0;32m--> 742\u001b[0;31m                         \u001b[0mrun\u001b[0m\u001b[0;34m(\u001b[0m\u001b[0;34m)\u001b[0m\u001b[0;34m\u001b[0m\u001b[0m\n\u001b[0m\u001b[1;32m    743\u001b[0m \u001b[0;34m\u001b[0m\u001b[0m\n\u001b[1;32m    744\u001b[0m             \u001b[0;32mif\u001b[0m \u001b[0;34m'i'\u001b[0m \u001b[0;32min\u001b[0m \u001b[0mopts\u001b[0m\u001b[0;34m:\u001b[0m\u001b[0;34m\u001b[0m\u001b[0m\n",
            "\u001b[0;32m/usr/local/lib/python3.6/dist-packages/IPython/core/magics/execution.py\u001b[0m in \u001b[0;36mrun\u001b[0;34m()\u001b[0m\n\u001b[1;32m    726\u001b[0m                         \u001b[0;32mdef\u001b[0m \u001b[0mrun\u001b[0m\u001b[0;34m(\u001b[0m\u001b[0;34m)\u001b[0m\u001b[0;34m:\u001b[0m\u001b[0;34m\u001b[0m\u001b[0m\n\u001b[1;32m    727\u001b[0m                             runner(filename, prog_ns, prog_ns,\n\u001b[0;32m--> 728\u001b[0;31m                                     exit_ignore=exit_ignore)\n\u001b[0m\u001b[1;32m    729\u001b[0m \u001b[0;34m\u001b[0m\u001b[0m\n\u001b[1;32m    730\u001b[0m                     \u001b[0;32mif\u001b[0m \u001b[0;34m't'\u001b[0m \u001b[0;32min\u001b[0m \u001b[0mopts\u001b[0m\u001b[0;34m:\u001b[0m\u001b[0;34m\u001b[0m\u001b[0m\n",
            "\u001b[0;32m/usr/local/lib/python3.6/dist-packages/IPython/core/pylabtools.py\u001b[0m in \u001b[0;36mmpl_execfile\u001b[0;34m(fname, *where, **kw)\u001b[0m\n\u001b[1;32m    175\u001b[0m         \u001b[0mmatplotlib\u001b[0m\u001b[0;34m.\u001b[0m\u001b[0minteractive\u001b[0m\u001b[0;34m(\u001b[0m\u001b[0mis_interactive\u001b[0m\u001b[0;34m)\u001b[0m\u001b[0;34m\u001b[0m\u001b[0m\n\u001b[1;32m    176\u001b[0m         \u001b[0;31m# make rendering call now, if the user tried to do it\u001b[0m\u001b[0;34m\u001b[0m\u001b[0;34m\u001b[0m\u001b[0m\n\u001b[0;32m--> 177\u001b[0;31m         \u001b[0;32mif\u001b[0m \u001b[0mplt\u001b[0m\u001b[0;34m.\u001b[0m\u001b[0mdraw_if_interactive\u001b[0m\u001b[0;34m.\u001b[0m\u001b[0mcalled\u001b[0m\u001b[0;34m:\u001b[0m\u001b[0;34m\u001b[0m\u001b[0m\n\u001b[0m\u001b[1;32m    178\u001b[0m             \u001b[0mplt\u001b[0m\u001b[0;34m.\u001b[0m\u001b[0mdraw\u001b[0m\u001b[0;34m(\u001b[0m\u001b[0;34m)\u001b[0m\u001b[0;34m\u001b[0m\u001b[0m\n\u001b[1;32m    179\u001b[0m             \u001b[0mplt\u001b[0m\u001b[0;34m.\u001b[0m\u001b[0mdraw_if_interactive\u001b[0m\u001b[0;34m.\u001b[0m\u001b[0mcalled\u001b[0m \u001b[0;34m=\u001b[0m \u001b[0;32mFalse\u001b[0m\u001b[0;34m\u001b[0m\u001b[0m\n",
            "\u001b[0;31mAttributeError\u001b[0m: 'function' object has no attribute 'called'"
          ]
        }
      ]
    },
    {
      "metadata": {
        "id": "5j74PcBCBjij",
        "colab_type": "code",
        "colab": {}
      },
      "cell_type": "code",
      "source": [
        ""
      ],
      "execution_count": 0,
      "outputs": []
    }
  ]
}